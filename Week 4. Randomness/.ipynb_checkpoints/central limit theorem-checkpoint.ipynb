{
 "cells": [
  {
   "cell_type": "markdown",
   "metadata": {},
   "source": [
    "# Распределение Фишера\n",
    "# An F continuous random variable"
   ]
  },
  {
   "cell_type": "markdown",
   "metadata": {},
   "source": [
    "Справка: https://docs.scipy.org/doc/scipy-0.14.0/reference/generated/scipy.stats.f.html#scipy.stats.f"
   ]
  },
  {
   "cell_type": "markdown",
   "metadata": {
    "collapsed": true
   },
   "source": [
    "Импортируем библиотеки"
   ]
  },
  {
   "cell_type": "code",
   "execution_count": 281,
   "metadata": {
    "collapsed": true
   },
   "outputs": [],
   "source": [
    "import pandas as pd\n",
    "import numpy as np\n",
    "import matplotlib.pyplot as plt\n",
    "import scipy.stats as stats\n",
    "%matplotlib inline"
   ]
  },
  {
   "cell_type": "code",
   "execution_count": 282,
   "metadata": {
    "collapsed": true
   },
   "outputs": [],
   "source": [
    "x = np.linspace(start=10**(-10), stop=7, num=100) # num - количество элементов массива, по умолчанию равен 50\n",
    "# Возвращает массив чисел равномерно распределенных от начального до конечного значения."
   ]
  },
  {
   "cell_type": "markdown",
   "metadata": {},
   "source": [
    "Задаем степени свободы и создаем объект распределения"
   ]
  },
  {
   "cell_type": "code",
   "execution_count": 283,
   "metadata": {},
   "outputs": [
    {
     "data": {
      "text/plain": [
       "<scipy.stats._distn_infrastructure.rv_frozen at 0x172ebb00>"
      ]
     },
     "execution_count": 283,
     "metadata": {},
     "output_type": "execute_result"
    }
   ],
   "source": [
    "df1, df2 = 3, 7\n",
    "f_rv = stats.f(df1, df2)\n",
    "f_rv"
   ]
  },
  {
   "cell_type": "markdown",
   "metadata": {},
   "source": [
    "Генерируем эмпирическое распределение объема v"
   ]
  },
  {
   "cell_type": "code",
   "execution_count": 284,
   "metadata": {},
   "outputs": [
    {
     "data": {
      "text/plain": [
       "array([  2.65268604e+00,   5.50924294e+00,   8.59285818e-02,\n",
       "         1.03411529e+01,   2.61560389e+00,   4.59847571e+00,\n",
       "         9.01204130e-02,   9.80614814e+00,   6.74403022e-01,\n",
       "         2.79850990e+00,   1.37585151e+00,   3.57549102e-01,\n",
       "         4.38916582e-01,   2.63107681e+00,   6.88101615e-02,\n",
       "         4.94439450e-01,   3.39917301e-01,   6.85472012e-01,\n",
       "         6.49322385e+00,   7.87073207e-01,   5.00624208e+00,\n",
       "         2.63911172e+00,   1.83870139e+00,   2.87645608e+00,\n",
       "         1.58610153e+00,   1.26733862e-01,   1.25038477e-01,\n",
       "         1.44532355e-01,   6.96531736e-01,   1.04808448e+00,\n",
       "         6.82038457e-01,   1.73017170e+00,   1.10470208e+00,\n",
       "         7.43789998e-01,   2.06253474e+00,   1.57495730e+00,\n",
       "         1.65932915e+00,   2.27586178e+00,   3.62227019e-01,\n",
       "         3.57311668e-01,   8.75277597e-02,   6.72686185e-01,\n",
       "         8.39479698e-02,   8.99114411e-01,   3.26983836e-01,\n",
       "         4.84827842e-01,   1.28597721e+00,   7.79948287e+00,\n",
       "         2.30879706e-01,   2.51964621e+00,   8.42878316e+00,\n",
       "         7.83791513e-01,   1.90120295e-01,   1.77100083e+00,\n",
       "         1.74244467e+00,   1.83597745e+00,   4.46300220e-01,\n",
       "         4.38654838e-01,   4.86850042e-01,   1.40973261e+00,\n",
       "         2.03531246e+00,   1.68637485e-01,   2.65044816e+00,\n",
       "         3.63094620e-01,   4.26453371e-01,   6.43312489e-01,\n",
       "         5.32276266e-01,   7.03905198e-01,   5.83780839e+00,\n",
       "         2.75834400e+00,   2.06281969e+00,   9.86748622e-01,\n",
       "         6.25027171e-01,   1.50274783e+00,   1.78982026e+00,\n",
       "         1.87947912e+00,   1.19711403e+00,   2.51134651e-01,\n",
       "         1.61628015e+00,   7.86045631e-01,   3.09910216e+00,\n",
       "         3.14128314e-01,   4.40154645e-01,   5.50474624e+00,\n",
       "         4.45517968e+00,   5.55508404e-01,   6.12592034e-01,\n",
       "         5.96239456e-01,   2.98373471e+00,   1.71848019e+00,\n",
       "         4.39506925e-01,   5.67180647e-01,   3.52599889e-01,\n",
       "         9.83095830e-01,   6.36913492e-01,   2.42487184e-01,\n",
       "         3.36489258e+00,   1.09721681e+00,   2.32558534e-01,\n",
       "         6.16788361e-01,   9.06791895e-01,   6.61242826e-01,\n",
       "         3.76262170e-01,   3.01779453e-01,   1.14968789e+00,\n",
       "         9.47355499e-01,   7.46335613e-01,   1.54919208e+00,\n",
       "         1.05158667e+00,   5.60914613e-01,   2.48422414e+00,\n",
       "         6.35027620e+00,   8.46049022e-01,   2.64415020e-01,\n",
       "         3.31725760e-01,   6.63092480e+00,   8.74826994e-02,\n",
       "         4.28391529e-01,   1.27222432e+00,   3.17933864e-02,\n",
       "         2.94985321e+00,   2.19152633e+00,   7.08827545e-01,\n",
       "         1.15151562e+00,   2.01533125e-01,   2.03666861e+00,\n",
       "         8.35803593e+00,   3.05370819e-01,   1.03533591e+01,\n",
       "         3.30498526e+00,   2.59696780e-01,   3.26784188e-01,\n",
       "         1.27197840e-01,   1.97659443e-01,   7.60883341e+00,\n",
       "         4.54475309e-01,   4.23910486e-01,   6.42571018e-01,\n",
       "         1.84751205e+00,   5.94770854e-01,   1.00850814e+01,\n",
       "         4.34920887e-01,   4.29179977e-01,   3.58555338e-01,\n",
       "         1.10635021e+00,   4.59217925e-01,   7.62101269e-01,\n",
       "         6.06130949e-01,   5.50783357e+00,   1.37591665e+00,\n",
       "         1.42100322e+00,   1.43282915e+00,   2.28932160e-01,\n",
       "         1.15364151e+00,   1.05509781e+00,   1.87927921e+00,\n",
       "         7.26168764e-01,   1.29804060e+00,   5.39604129e-02,\n",
       "         2.70863452e+00,   3.71621749e+00,   2.13625932e+00,\n",
       "         1.58147554e+00,   4.73912822e-01,   1.01815647e+00,\n",
       "         1.21118090e+00,   1.98688526e+00,   7.85093834e+00,\n",
       "         3.97861711e+00,   4.04627540e-01,   2.47941066e-01,\n",
       "         1.47846786e+00,   7.68955759e-02,   1.09498548e+00,\n",
       "         1.34562959e+00,   3.22275552e-02,   6.18636352e+00,\n",
       "         9.05325088e-01,   1.32760049e+01,   3.73548258e+00,\n",
       "         1.47809829e+00,   4.31145631e-02,   8.48640779e-01,\n",
       "         7.23544594e-02,   1.45618394e+00,   5.85054086e-01,\n",
       "         3.48893699e-01,   1.32243663e+00,   2.15076131e-01,\n",
       "         4.03024337e-01,   6.32852967e-01,   5.55193781e-01,\n",
       "         4.21336772e-01,   1.18315725e+00,   4.68703019e-01,\n",
       "         1.72146957e+00,   3.45527908e-01,   2.45609998e+00,\n",
       "         3.64659598e-01,   1.49396881e+00,   4.05303849e+00,\n",
       "         3.03562978e+00,   8.61442515e-01,   3.83148420e-01,\n",
       "         1.36018407e+00,   7.98574893e-01,   9.18001551e-01,\n",
       "         2.07374828e+00,   1.89003324e+00,   5.49957811e-01,\n",
       "         4.12917275e-01,   3.83764062e-01,   7.01646879e-01,\n",
       "         5.33384211e-01,   6.64877407e-01,   1.22827992e+00,\n",
       "         8.72124188e-01,   8.79996818e-01,   2.55234078e-01,\n",
       "         2.46510948e+00,   8.25309198e-01,   1.91739128e-01,\n",
       "         1.16729608e+00,   9.47563582e-01,   7.22917656e-02,\n",
       "         4.54280721e-01,   7.14973330e-01,   1.98970785e+00,\n",
       "         1.39518956e+00,   4.00288334e-01,   1.33676765e+00,\n",
       "         1.84429707e-01,   8.41726952e-01,   3.06102635e-01,\n",
       "         4.53729005e+00,   5.12403021e-01,   1.32523851e+00,\n",
       "         1.55131783e+00,   2.11739838e+00,   5.03056472e-01,\n",
       "         7.95491047e-01,   2.10230141e+00,   1.60162522e+00,\n",
       "         4.67983098e-01,   5.68337927e-01,   2.03432391e-01,\n",
       "         9.13248973e-01,   8.20669770e-01,   3.44234125e+00,\n",
       "         2.01989839e+00,   9.58978344e-01,   7.75849550e-01,\n",
       "         2.73141059e+00,   9.69187027e-01,   1.78839550e-01,\n",
       "         1.67252197e+00,   1.24598366e-01,   2.03826409e-01,\n",
       "         2.27431626e-01,   3.02304919e-01,   2.24153492e-01,\n",
       "         9.82771333e-01,   4.13951662e-01,   3.61867350e+00,\n",
       "         2.07244637e-01,   2.28802381e+00,   4.41683626e-01,\n",
       "         8.29046230e-01,   3.01925317e-01,   1.49899084e-01,\n",
       "         1.89457057e-01,   1.69639986e+00,   4.31363258e-01,\n",
       "         6.51118472e+00,   2.83729419e+00,   9.02607052e-01,\n",
       "         4.72667487e-01,   8.42039331e-01,   7.78323362e-01,\n",
       "         1.15944733e+00,   8.89165031e-01,   2.48841455e-01,\n",
       "         6.81214793e-01,   3.17336072e-01,   8.30466750e-01,\n",
       "         3.29998036e+00,   9.40926622e-01,   1.74305059e+00,\n",
       "         1.40813704e+00,   2.64582625e+00,   4.19054370e+00,\n",
       "         3.54727913e-01,   2.93017352e-01,   4.79760395e+00,\n",
       "         2.73738392e-01,   1.88632512e+00,   1.47181253e+00,\n",
       "         1.45641898e+00,   1.13218973e+00,   3.99318524e-01,\n",
       "         1.66779844e-01,   4.64632325e-01,   1.01285295e+00,\n",
       "         2.87780423e+00,   8.23154878e-01,   2.84685516e+00,\n",
       "         7.52782758e-01,   1.28004567e+00,   2.37785913e+00,\n",
       "         4.78893828e+00,   7.98993399e-01,   5.99405580e-01,\n",
       "         1.86467981e+00,   2.47530229e+00,   4.42232849e-01,\n",
       "         1.68504595e+00,   3.90461035e+00,   3.06586158e+00,\n",
       "         1.30814904e-01,   3.04087755e+00,   7.57465223e+00,\n",
       "         2.18240114e-01,   1.02325535e+00,   1.55453105e+00,\n",
       "         2.76702330e+00,   4.55245923e-01,   5.77359777e-01,\n",
       "         2.02156239e-01,   3.16084414e+00,   1.80686662e+00,\n",
       "         1.79881088e+00,   8.76063769e+00,   3.73684044e+00,\n",
       "         1.23460311e+00,   2.76202916e+00,   2.64714406e-01,\n",
       "         1.14975011e+00,   8.58533947e-01,   1.24240503e-01,\n",
       "         4.45759497e-01,   7.03269873e-01,   3.37145467e-03,\n",
       "         1.14218914e+00,   1.56072099e+00,   9.86950496e-01,\n",
       "         1.60231868e+00,   4.36173272e-01,   6.80536213e-01,\n",
       "         2.68560965e+00,   9.90859709e-01,   2.06841443e+00,\n",
       "         1.27136665e+00,   9.67954462e-01,   1.15823100e+00,\n",
       "         3.02360318e-02,   1.01752269e+00,   2.79309041e-01,\n",
       "         1.87154348e-01,   1.38190539e+00,   8.60467942e-01,\n",
       "         1.02066900e+00,   2.14772888e-01,   1.62335597e-01,\n",
       "         1.21987793e+00,   3.44803711e+00,   2.56882564e+00,\n",
       "         9.15678304e-01,   2.83653817e-01,   9.74106588e-01,\n",
       "         3.81453327e+00,   1.32613132e+00,   9.48098176e-01,\n",
       "         1.07296481e+00,   4.56374823e+00,   5.19253752e+00,\n",
       "         2.37768968e+00,   1.93670809e+00,   4.44145543e+00,\n",
       "         3.57086701e-01,   4.29304198e-02,   2.98449776e-01,\n",
       "         5.66648461e-01,   5.94048191e-01,   4.03284321e+00,\n",
       "         1.78590845e+00,   4.30458517e+00,   1.47083300e+00,\n",
       "         6.99475764e-01,   4.86167719e-01,   9.22663679e-01,\n",
       "         1.46832730e+00,   6.19710454e-01,   1.82936486e-01,\n",
       "         4.43800907e-01,   9.72036276e-01,   1.04795680e+00,\n",
       "         1.77330496e-01,   2.43265994e+00,   1.00491693e+00,\n",
       "         5.68642801e-01,   1.38195451e+00,   1.26413415e+00,\n",
       "         1.63248824e+00,   3.06219557e+00,   1.51635635e+00,\n",
       "         2.10061820e-01,   3.62816662e-01,   8.11241596e-01,\n",
       "         1.29344669e-01,   4.58783806e-01,   2.76368006e+00,\n",
       "         3.86050926e+00,   2.45142394e+00,   1.07304431e-01,\n",
       "         2.72083189e-01,   8.22100283e-01,   5.98263156e-01,\n",
       "         2.60969886e+00,   1.49444462e+00,   7.67329490e-01,\n",
       "         1.11147038e-01,   4.02544610e-01,   4.43091008e-01,\n",
       "         6.22367036e-01,   9.88372278e-02,   1.28697055e+00,\n",
       "         8.31792986e-02,   4.59970503e-01,   6.02661548e+00,\n",
       "         2.46878860e-01,   2.77512241e+00,   1.38884072e+00,\n",
       "         6.00910897e-02,   3.23119821e+00,   3.83395134e-01,\n",
       "         2.47363528e+00,   3.18761398e+00,   9.65825173e-01,\n",
       "         2.62768521e+00,   1.00876592e+00,   2.12277520e+00,\n",
       "         2.96866189e+00,   4.33426694e-01,   1.67771920e+00,\n",
       "         4.23203943e+00,   6.44692477e-01,   7.54469193e-01,\n",
       "         8.27605724e-01,   3.85866455e-01,   1.64502125e+00,\n",
       "         4.91329557e-01,   7.38922498e-01,   2.31324057e+00,\n",
       "         2.32173346e-01,   1.58437843e+00,   6.48162231e-01,\n",
       "         3.67770957e+00,   1.36058137e+00,   2.09719729e-01,\n",
       "         1.16049391e+01,   7.00578354e-01,   7.23875185e-01,\n",
       "         2.34795312e-01,   3.31997973e+00,   1.66743560e+00,\n",
       "         8.69713711e-01,   2.13505312e+00,   5.73776930e-01,\n",
       "         2.11529864e-01,   1.63829463e+00,   7.03470371e-01,\n",
       "         4.30510692e-02,   5.08642110e-01,   1.18062511e-01,\n",
       "         2.74594841e-01,   8.16885696e-01,   4.60087832e-01,\n",
       "         1.47200146e+00,   1.21354141e+00,   2.41369278e+00,\n",
       "         2.31794984e-01,   1.18022278e+00,   2.23738818e-01,\n",
       "         3.61220172e-01,   9.01059643e-01,   1.72402291e+00,\n",
       "         8.50625744e-02,   3.78130013e-01,   5.97003347e-01,\n",
       "         7.79950497e-01,   1.07884704e+00,   1.45986132e+00,\n",
       "         1.07358101e+00,   1.18237954e+00,   1.66483047e-01,\n",
       "         1.84915706e-01,   3.76730750e-01,   1.82373276e-01,\n",
       "         4.28369027e-01,   1.03589247e+00,   6.17990349e-01,\n",
       "         1.64011447e-01,   1.90058031e+00,   6.32785332e-01,\n",
       "         5.88940869e-01,   9.41261571e-01,   6.45565353e+00,\n",
       "         3.69861569e-01,   1.75053729e+00,   8.18372726e-01,\n",
       "         1.98644301e+00,   4.21423149e-01,   2.00850054e-01,\n",
       "         3.99200955e-01,   1.96341018e+00,   1.52936550e+00,\n",
       "         2.54304251e-01,   4.26216507e-01,   4.06999337e-01,\n",
       "         4.03563750e-01,   2.08894792e+00,   4.61103550e-01,\n",
       "         6.69902849e-02,   9.92706464e-01,   5.45114626e-01,\n",
       "         4.91394828e-01,   5.00898115e-01,   1.64702240e+00,\n",
       "         1.48029900e+00,   1.12523429e+00,   3.29682061e-01,\n",
       "         1.55740622e+00,   5.77665607e+00,   6.05092785e-01,\n",
       "         2.93355640e-02,   4.31288465e+00,   1.30307051e-01,\n",
       "         6.34552653e-01,   4.69557470e+00,   1.76326926e+00,\n",
       "         1.23418717e-01,   8.67095268e-01,   6.52278296e-01,\n",
       "         1.47101656e-01,   1.51458349e+00,   6.47561126e-01,\n",
       "         7.37617261e-01,   7.49352825e-01,   1.09897588e+00,\n",
       "         4.63887264e+00,   1.62780467e+00,   7.32683539e-01,\n",
       "         3.73695632e-01,   2.53581433e+00,   5.50051426e-01,\n",
       "         5.99407171e-01,   6.07308500e-01,   5.17627740e-01,\n",
       "         1.23426222e-01,   9.22496814e-01,   1.56843200e-01,\n",
       "         6.47260647e-01,   1.49460356e+00,   2.67408828e+00,\n",
       "         8.65941632e-01,   3.11551397e-01,   3.95558039e-01,\n",
       "         6.75538357e-01,   6.54825309e-01,   4.72902521e+00,\n",
       "         1.92547075e+00,   1.36936003e+00,   7.10234298e-01,\n",
       "         1.84519975e+00,   1.55602250e-01,   5.79350968e-02,\n",
       "         9.28365180e-01,   6.20457674e-01,   4.24279007e-01,\n",
       "         1.43203701e+00,   7.99618341e-01,   6.45591736e-01,\n",
       "         3.75769351e+00,   1.03738298e+00,   2.13119825e-01,\n",
       "         3.71967473e-01,   2.15902569e+00,   5.81937976e-01,\n",
       "         1.33723493e+00,   3.11000253e+00,   6.52146965e-01,\n",
       "         1.09773834e+00,   2.55770163e+00,   2.72641775e-01,\n",
       "         7.98377594e-01,   1.04619487e+00,   6.18709399e-01,\n",
       "         5.35543575e-01,   2.00129300e+00,   2.45143942e+00,\n",
       "         1.55084066e-01,   1.19824647e+00,   2.08106610e+00,\n",
       "         2.28370007e-01,   1.78086539e+00,   3.38525091e-01,\n",
       "         9.21364736e-01,   2.33836918e+00,   9.27238862e-01,\n",
       "         5.05661268e-01,   6.34045090e-01,   4.75901425e-01,\n",
       "         3.07177299e+00,   1.35071597e+00,   1.32907615e+00,\n",
       "         5.04074373e-01,   1.16707251e+00,   7.49036896e-01,\n",
       "         1.55132549e-01,   1.95896227e+00,   2.38089780e-01,\n",
       "         8.69049356e-01,   1.04896681e+00,   1.19064756e+00,\n",
       "         1.45738071e+00,   1.76602760e+00,   1.36683168e+00,\n",
       "         7.06466121e-01,   6.85681131e-01,   8.64243897e-01,\n",
       "         1.52115928e+00,   1.18541946e+00,   3.34999054e-01,\n",
       "         2.09561528e+00,   3.33274170e-01,   2.90178749e-01,\n",
       "         9.63512862e-01,   1.21226670e+00,   2.12539756e+00,\n",
       "         2.10538345e-01,   8.02665413e-01,   1.38249066e+00,\n",
       "         1.14343122e+00,   1.13254372e-01,   2.91370321e+00,\n",
       "         2.64596191e-01,   1.01320982e+00,   3.72238798e-01,\n",
       "         1.22966792e+00,   2.09354062e+00,   3.03807664e-01,\n",
       "         3.62097865e-01,   2.17099429e+00,   1.12244568e+00,\n",
       "         7.21722787e-01,   2.62299077e-01,   4.81056218e-01,\n",
       "         5.01134658e-01,   4.92854126e+00,   1.07664414e+00,\n",
       "         1.66061641e+00,   1.49392496e+00,   1.65023640e+00,\n",
       "         4.62003531e+00,   2.57858179e+00,   7.00461401e-01,\n",
       "         9.83616611e-01,   6.12499968e-01,   1.09754825e+00,\n",
       "         1.22018130e+00,   2.95637849e-01,   1.44777411e+00,\n",
       "         5.86876769e-01,   2.06902529e-01,   2.24564934e-01,\n",
       "         1.08117482e+00,   1.63733277e+00,   4.01768063e-01,\n",
       "         7.19733335e-01,   2.25557645e+00,   9.60854573e-01,\n",
       "         2.48611702e+00,   3.82740935e+00,   4.81426641e-01,\n",
       "         9.81709197e-02,   3.25269559e-01,   1.19563218e+00,\n",
       "         1.20193725e+00,   9.29745355e-01,   2.05943063e+00,\n",
       "         1.01133168e+00,   5.14581701e-01,   7.60419965e-01,\n",
       "         3.95950077e-01,   1.51082857e+00,   1.38990398e-01,\n",
       "         4.46254253e+00,   9.11475744e-01,   1.24563483e+00,\n",
       "         1.80786045e+00,   1.77868937e+00,   4.44594814e-01,\n",
       "         8.88781038e-02,   7.45279233e-02,   1.10558339e+00,\n",
       "         1.57851179e-01,   1.71095283e+00,   1.85366715e-01,\n",
       "         2.05933078e+00,   1.97398416e-01,   3.40698549e-01,\n",
       "         5.41082333e-02,   1.07551113e+00,   1.49472871e-01,\n",
       "         8.22741510e-01,   5.09655045e-01,   6.64858866e-01,\n",
       "         9.53542266e-01,   3.34549204e+00,   6.46839713e-01,\n",
       "         4.70705348e-01,   7.34536667e+00,   1.42700014e+00,\n",
       "         2.84334248e+00,   2.41870212e+00,   1.71008623e+00,\n",
       "         5.55642608e-01,   1.73113888e+00,   9.48000829e-01,\n",
       "         7.12552497e-01,   2.05230707e+00,   9.11250327e-01,\n",
       "         2.06153811e+00,   4.07253030e-01,   5.24590383e-01,\n",
       "         6.21850834e-01,   1.51791501e+00,   1.51545820e-01,\n",
       "         2.41566192e+00,   2.48649272e+00,   1.13859430e+00,\n",
       "         3.65150694e+00,   9.14589959e-01,   1.83411898e+00,\n",
       "         1.92000003e+00,   1.71357133e-01,   4.76365137e-01,\n",
       "         1.53449407e+00,   4.76901256e-01,   1.25153279e-01,\n",
       "         7.70938275e+00,   2.91142265e-01,   6.86994249e-01,\n",
       "         2.10126248e+00,   1.01847344e+00,   2.40195906e-01,\n",
       "         2.35292890e+00,   2.30856350e+00,   4.83788803e+00,\n",
       "         2.08526250e+00,   1.01987498e+00,   3.05611877e+00,\n",
       "         1.03944195e+00,   1.31235429e-01,   2.28807690e-01,\n",
       "         5.83401705e-01,   1.78416087e+00,   2.60635856e-01,\n",
       "         6.44635178e-01,   3.98207409e-01,   9.52426182e-01,\n",
       "         9.29385527e-01,   7.12461142e-01,   1.99845371e+00,\n",
       "         4.66197596e-01,   5.42383869e-01,   2.76719474e+00,\n",
       "         2.34485610e+00,   3.21113381e+00,   6.62272831e-01,\n",
       "         1.83006843e-02,   2.73072270e+00,   2.40143403e-01,\n",
       "         7.47133341e-01,   1.29357388e+00,   1.71292105e+00,\n",
       "         1.23731001e+00,   2.09303373e+00,   3.64617174e-01,\n",
       "         8.53469612e-01,   6.76932168e-01,   5.33909500e-01,\n",
       "         2.07781509e-01,   8.23383818e-01,   2.35117027e-01,\n",
       "         1.38417986e+00,   1.52658818e+00,   3.45015601e-01,\n",
       "         9.33623326e-01,   6.40800218e-01,   4.59833049e-01,\n",
       "         1.04304831e+01,   2.51351586e+00,   2.97039483e+00,\n",
       "         4.07968157e-01,   7.18370226e-03,   1.40405885e+00,\n",
       "         7.03931019e-01,   4.34899404e-01,   8.18813740e-01,\n",
       "         1.48446522e+00,   2.47038750e-01,   8.34333069e-01,\n",
       "         6.20592727e-01,   2.70296185e+00,   1.87240873e+00,\n",
       "         1.84524327e+00,   2.17485545e+00,   1.86101884e+00,\n",
       "         9.71844041e-01,   1.70544088e+00,   2.67519752e+00,\n",
       "         4.46828970e-01,   3.16722036e+00,   6.04854755e-01,\n",
       "         2.82137581e-01,   1.10929307e+00,   6.28340002e-01,\n",
       "         7.24758857e+00,   3.72624582e-01,   2.09086951e-01,\n",
       "         6.58231322e-01,   5.76487738e+00,   1.18593645e-01,\n",
       "         5.33393101e-01,   1.25594663e+00,   4.05714250e+00,\n",
       "         1.02147203e+00,   4.28519003e-01,   1.82380912e-01,\n",
       "         2.21740412e+00,   5.51383791e-01,   1.31802843e+00,\n",
       "         8.55468258e+00,   2.56337781e+00,   2.44560358e+00,\n",
       "         2.47765756e+00,   6.26936551e-01,   4.01432361e-01,\n",
       "         2.44438774e-02,   4.98816813e-01,   8.17688621e-01,\n",
       "         5.34943088e-01,   6.55460459e-01,   2.61884233e+00,\n",
       "         6.32697190e-01,   1.09108084e+00,   1.09504395e+00,\n",
       "         1.00352911e+00,   1.34369684e+00,   9.60074037e-01,\n",
       "         2.64668124e+00,   6.11575403e-01,   6.73775004e-01,\n",
       "         7.62178410e-01,   2.45439069e+00,   4.32815374e-01,\n",
       "         9.87945829e-02,   2.08475711e+00,   7.10447814e-01,\n",
       "         2.30241958e-01,   1.03865736e+00,   6.17988456e-02,\n",
       "         2.08780136e+00,   2.54344836e-01,   9.17573426e-01,\n",
       "         1.14434467e+00,   6.08902156e+00,   5.43892073e-01,\n",
       "         9.82806549e-01,   2.07762258e+00,   6.83096866e+00,\n",
       "         1.75592093e-01,   1.74523923e+00,   1.77049657e+00,\n",
       "         3.19968316e+00,   3.25979474e-01,   4.06088674e-01,\n",
       "         4.23649310e-01,   4.92959665e-01,   1.32368637e+00,\n",
       "         4.09018682e-01,   1.14346912e+00,   2.27973909e+00,\n",
       "         4.66548494e+00,   1.13119256e+00,   1.54325789e+00,\n",
       "         8.44262520e-01,   6.39460404e-01,   1.34963051e+00,\n",
       "         1.25836042e+00,   3.32086897e+00,   1.98967353e+00,\n",
       "         3.29953700e+00,   3.43707794e-01,   2.48184559e+00,\n",
       "         8.33347274e-01,   1.24358256e-01,   1.15458918e+00,\n",
       "         8.16177608e-01,   1.68538883e-01,   1.57897760e-01,\n",
       "         8.67999306e-01,   2.79372680e-01,   4.21748549e-01,\n",
       "         2.15187693e-01,   1.99326128e+00,   7.90395894e-01,\n",
       "         1.53270931e+00,   1.96047840e-01,   7.23621715e-01,\n",
       "         9.35011933e-01,   9.54687802e-02,   5.54067988e+00,\n",
       "         2.83788322e+00,   4.11723981e-01,   1.64587187e+00,\n",
       "         5.22209835e-01,   7.72332056e-01,   2.66911302e+00,\n",
       "         4.78775985e-01,   1.62939142e+00,   2.78857703e+00,\n",
       "         2.26271913e+00,   2.74317957e+00,   1.11626174e+00,\n",
       "         4.33031642e-01,   1.40461630e+00,   5.93371975e-01,\n",
       "         1.35898432e+00,   1.31403926e+00,   1.43803697e-01,\n",
       "         6.57847087e-01,   1.53132006e+00,   6.54309311e-01,\n",
       "         1.85507462e+00,   2.87410075e+00,   9.77363219e-01,\n",
       "         1.44527686e+00,   6.59012182e-01,   1.81168821e+00,\n",
       "         6.90516970e-02,   1.59932401e+00,   1.07456519e+00,\n",
       "         4.73019428e-01,   1.44912809e-01,   5.26337065e-01,\n",
       "         1.25808754e+01,   1.05301222e+00,   3.04247144e+00,\n",
       "         4.75252811e-01,   2.11614367e+00,   1.47841830e+00,\n",
       "         3.04586735e+00,   5.94975178e-01,   2.58324510e+00,\n",
       "         3.78873301e+00,   1.84850663e-01,   2.83748010e+00,\n",
       "         6.91221409e-01,   6.15846939e-01,   9.43838137e-02,\n",
       "         1.43538651e+00,   1.05323006e+00,   3.10515538e+00,\n",
       "         9.34799534e-02,   6.23344984e+00,   1.53170260e+00,\n",
       "         7.91953018e-01,   1.16249949e+00,   1.41424090e+00,\n",
       "         2.06915081e+00,   1.27139028e+00,   4.36819839e-01,\n",
       "         1.44510069e+00,   9.11313137e-01,   5.96304540e-01,\n",
       "         1.04308391e-01,   1.54806738e+00,   5.38620300e-01,\n",
       "         1.56668287e+00,   1.32253768e+00,   9.13639474e-01,\n",
       "         9.84704477e+00,   2.43146510e-01,   1.67518959e+00,\n",
       "         9.25530314e-01,   5.66676389e-01,   1.02393725e-01,\n",
       "         2.06381374e+00])"
      ]
     },
     "execution_count": 284,
     "metadata": {},
     "output_type": "execute_result"
    }
   ],
   "source": [
    "v = 1000\n",
    "f_sample = f_rv.rvs(v)\n",
    "f_sample"
   ]
  },
  {
   "cell_type": "markdown",
   "metadata": {},
   "source": [
    "Строим гистограмму эмпирического распределения"
   ]
  },
  {
   "cell_type": "code",
   "execution_count": 285,
   "metadata": {},
   "outputs": [
    {
     "data": {
      "text/plain": [
       "<matplotlib.text.Text at 0x16e546a0>"
      ]
     },
     "execution_count": 285,
     "metadata": {},
     "output_type": "execute_result"
    },
    {
     "data": {
      "image/png": "[encoded data removed]",
      "text/plain": [
       "<matplotlib.figure.Figure at 0x1741c390>"
      ]
     },
     "metadata": {},
     "output_type": "display_data"
    }
   ],
   "source": [
    "plt.hist(f_sample, normed=True) # Параметр bins - число столбцов\n",
    "plt.ylabel('fraction of samples')\n",
    "plt.xlabel('$x$')"
   ]
  },
  {
   "cell_type": "markdown",
   "metadata": {},
   "source": [
    "Смотрим на теоретическую плотность распределения"
   ]
  },
  {
   "cell_type": "code",
   "execution_count": 287,
   "metadata": {},
   "outputs": [
    {
     "data": {
      "text/plain": [
       "<matplotlib.legend.Legend at 0x190a49b0>"
      ]
     },
     "execution_count": 287,
     "metadata": {},
     "output_type": "execute_result"
    },
    {
     "data": {
      "image/png": "[encoded data removed]",
      "text/plain": [
       "<matplotlib.figure.Figure at 0x190a4a20>"
      ]
     },
     "metadata": {},
     "output_type": "display_data"
    }
   ],
   "source": [
    "pdf = f_rv.pdf(x)\n",
    "plt.plot(x, pdf, label='theoretical PDF')\n",
    "\n",
    "plt.ylabel('$f(x)$')\n",
    "plt.xlabel('$x$')\n",
    "plt.legend(loc='upper left')"
   ]
  },
  {
   "cell_type": "markdown",
   "metadata": {},
   "source": [
    "Совмещаем гистограмму и теоретическую плотность распределения на одном графике"
   ]
  },
  {
   "cell_type": "code",
   "execution_count": 289,
   "metadata": {},
   "outputs": [
    {
     "data": {
      "text/plain": [
       "<matplotlib.legend.Legend at 0x1939ff28>"
      ]
     },
     "execution_count": 289,
     "metadata": {},
     "output_type": "execute_result"
    },
    {
     "data": {
      "image/png": "[encoded data removed]",
      "text/plain": [
       "<matplotlib.figure.Figure at 0x192e0f28>"
      ]
     },
     "metadata": {},
     "output_type": "display_data"
    }
   ],
   "source": [
    "plt.hist(f_sample, normed=True, label='histogram') # Параметр bins - число столбцов, normed=True - сведение величин к одному масштабу\n",
    "pdf = f_rv.pdf(x)\n",
    "plt.plot(x, pdf, label='theoretical PDF')\n",
    "\n",
    "plt.ylabel('$f(x)$')\n",
    "plt.xlabel('$x$')\n",
    "plt.legend(loc='upper left')"
   ]
  },
  {
   "cell_type": "markdown",
   "metadata": {},
   "source": [
    "Считаем параметры изучаемого теоретического распределения Фишера"
   ]
  },
  {
   "cell_type": "code",
   "execution_count": 290,
   "metadata": {},
   "outputs": [
    {
     "data": {
      "text/plain": [
       "1.4"
      ]
     },
     "execution_count": 290,
     "metadata": {},
     "output_type": "execute_result"
    }
   ],
   "source": [
    "# Теоретическое среднее распределения Фишера = df2 / (df2 - 2)\n",
    "mean = f_rv.mean()\n",
    "mean = df2 / (df2 - 2)\n",
    "mean"
   ]
  },
  {
   "cell_type": "code",
   "execution_count": 291,
   "metadata": {},
   "outputs": [
    {
     "data": {
      "text/plain": [
       "1.8666666666666667"
      ]
     },
     "execution_count": 291,
     "metadata": {},
     "output_type": "execute_result"
    }
   ],
   "source": [
    "# Теоретическое стандартное отклонение распределения Фишера\n",
    "std = f_rv.std()\n",
    "std = (2 * df2 ** 2 * (df1 + df2 - 2) / (df1 * (df2 - 2) ** 2 * (df2 - 4))) ** (1 / 2)\n",
    "std"
   ]
  },
  {
   "cell_type": "markdown",
   "metadata": {},
   "source": [
    "Строим <b>гистограммы распределения выборочных средних</b> при заданном объеме выборки.\n",
    "Поверх данных гистограмм строим график плотности теоретического нормального распределения,\n",
    "к которому приближается распределение выборочных средних."
   ]
  },
  {
   "cell_type": "code",
   "execution_count": 292,
   "metadata": {
    "collapsed": true
   },
   "outputs": [],
   "source": [
    "k = 1000 # Количество генераций эмпирической выборки распределения выборочных средних"
   ]
  },
  {
   "cell_type": "code",
   "execution_count": 293,
   "metadata": {},
   "outputs": [
    {
     "data": {
      "text/plain": [
       "[<matplotlib.lines.Line2D at 0x17635400>]"
      ]
     },
     "execution_count": 293,
     "metadata": {},
     "output_type": "execute_result"
    },
    {
     "data": {
      "image/png": "[encoded data removed]",
      "text/plain": [
       "<matplotlib.figure.Figure at 0x19273438>"
      ]
     },
     "metadata": {},
     "output_type": "display_data"
    }
   ],
   "source": [
    "n = 5 # Объем выборки\n",
    "sampleMean = [] # Массив выборочных средних\n",
    "for i in range(k):\n",
    "    f_sample = f_rv.rvs(n)\n",
    "    sampleMean.append(np.mean(f_sample))\n",
    "plt.hist(sampleMean, normed=True, label='fraction of samples') # Параметр bins - число столбцов\n",
    "plt.ylabel('$f(x)$')\n",
    "plt.xlabel('$x$')\n",
    "n_mean = mean # Оценка среднего теоретического нормального распределения, к которому приближается распределение выборочных средних\n",
    "n_std = std / n ** (1/2) # Оценка стандартного отклонения теоретического нормального распределения, к которому приближается распределение выборочных средних\n",
    "norm_rv = stats.norm(n_mean, n_std)\n",
    "norm_pdf = norm_rv.pdf(x)\n",
    "plt.plot(x, norm_pdf, label='normal distribution')"
   ]
  },
  {
   "cell_type": "code",
   "execution_count": 294,
   "metadata": {},
   "outputs": [
    {
     "data": {
      "text/plain": [
       "[<matplotlib.lines.Line2D at 0x19340908>]"
      ]
     },
     "execution_count": 294,
     "metadata": {},
     "output_type": "execute_result"
    },
    {
     "data": {
      "image/png": "[encoded data removed]",
      "text/plain": [
       "<matplotlib.figure.Figure at 0x192c90b8>"
      ]
     },
     "metadata": {},
     "output_type": "display_data"
    }
   ],
   "source": [
    "n = 10 # Объем выборки\n",
    "sampleMean = [] # Массив выборочных средних\n",
    "for i in range(k):\n",
    "    f_sample = f_rv.rvs(n)\n",
    "    sampleMean.append(np.mean(f_sample))\n",
    "plt.hist(sampleMean, normed=True, label='fraction of samples') # Параметр bins - число столбцов\n",
    "plt.ylabel('$f(x)$')\n",
    "plt.xlabel('$x$')\n",
    "n_mean = mean # Оценка среднего теоретического нормального распределения, к которому приближается распределение выборочных средних\n",
    "n_std = std / n ** (1/2) # Оценка стандартного отклонения теоретического нормального распределения, к которому приближается распределение выборочных средних\n",
    "norm_rv = stats.norm(n_mean, n_std)\n",
    "norm_pdf = norm_rv.pdf(x)\n",
    "plt.plot(x, norm_pdf, label='normal distribution')"
   ]
  },
  {
   "cell_type": "code",
   "execution_count": 295,
   "metadata": {},
   "outputs": [
    {
     "data": {
      "text/plain": [
       "[<matplotlib.lines.Line2D at 0x1903ad68>]"
      ]
     },
     "execution_count": 295,
     "metadata": {},
     "output_type": "execute_result"
    },
    {
     "data": {
      "image/png": "[encoded data removed]",
      "text/plain": [
       "<matplotlib.figure.Figure at 0x192d7c88>"
      ]
     },
     "metadata": {},
     "output_type": "display_data"
    }
   ],
   "source": [
    "n = 50 # Объем выборки\n",
    "sampleMean = [] # Массив выборочных средних\n",
    "for i in range(k):\n",
    "    f_sample = f_rv.rvs(n)\n",
    "    sampleMean.append(np.mean(f_sample))\n",
    "plt.hist(sampleMean, normed=True, label='fraction of samples') # Параметр bins - число столбцов\n",
    "plt.ylabel('$f(x)$')\n",
    "plt.xlabel('$x$')\n",
    "n_mean = mean # Оценка среднего теоретического нормального распределения, к которому приближается распределение выборочных средних\n",
    "n_std = std / n ** (1/2) # Оценка стандартного отклонения теоретического нормального распределения, к которому приближается распределение выборочных средних\n",
    "norm_rv = stats.norm(n_mean, n_std)\n",
    "norm_pdf = norm_rv.pdf(x)\n",
    "plt.plot(x, norm_pdf, label='normal distribution')"
   ]
  },
  {
   "cell_type": "code",
   "execution_count": 296,
   "metadata": {},
   "outputs": [
    {
     "data": {
      "text/plain": [
       "[<matplotlib.lines.Line2D at 0x193ae588>]"
      ]
     },
     "execution_count": 296,
     "metadata": {},
     "output_type": "execute_result"
    },
    {
     "data": {
      "image/png": "[encoded data removed]",
      "text/plain": [
       "<matplotlib.figure.Figure at 0x196319e8>"
      ]
     },
     "metadata": {},
     "output_type": "display_data"
    }
   ],
   "source": [
    "n = 100 # Объем выборки\n",
    "sampleMean = [] # Массив выборочных средних\n",
    "for i in range(k):\n",
    "    f_sample = f_rv.rvs(n)\n",
    "    sampleMean.append(np.mean(f_sample))\n",
    "plt.hist(sampleMean, normed=True, label='fraction of samples') # Параметр bins - число столбцов\n",
    "plt.ylabel('$f(x)$')\n",
    "plt.xlabel('$x$')\n",
    "n_mean = mean # Среднее теоретического нормального распределения, к которому приближается распределение выборочных средних\n",
    "n_std = std / n ** (1/2) # Стандартное отклонение теоретического нормального распределения, к которому приближается распределение выборочных средних\n",
    "norm_rv = stats.norm(n_mean, n_std)\n",
    "norm_pdf = norm_rv.pdf(x)\n",
    "plt.plot(x, norm_pdf, label='normal distribution')"
   ]
  },
  {
   "cell_type": "code",
   "execution_count": 297,
   "metadata": {},
   "outputs": [
    {
     "data": {
      "text/plain": [
       "[<matplotlib.lines.Line2D at 0x1963a400>]"
      ]
     },
     "execution_count": 297,
     "metadata": {},
     "output_type": "execute_result"
    },
    {
     "data": {
      "image/png": "[encoded data removed]",
      "text/plain": [
       "<matplotlib.figure.Figure at 0x13ae1da0>"
      ]
     },
     "metadata": {},
     "output_type": "display_data"
    }
   ],
   "source": [
    "n = 250 # Объем выборки\n",
    "sampleMean = [] # Массив выборочных средних\n",
    "for i in range(k):\n",
    "    f_sample = f_rv.rvs(n)\n",
    "    sampleMean.append(np.mean(f_sample))\n",
    "plt.hist(sampleMean, normed=True, label='fraction of samples') # Параметр bins - число столбцов\n",
    "plt.ylabel('$f(x)$')\n",
    "plt.xlabel('$x$')\n",
    "n_mean = mean # Оценка среднего теоретического нормального распределения, к которому приближается распределение выборочных средних\n",
    "n_std = std / n ** (1/2) # Оценка стандартного отклонения теоретического нормального распределения, к которому приближается распределение выборочных средних\n",
    "norm_rv = stats.norm(n_mean, n_std)\n",
    "norm_pdf = norm_rv.pdf(x)\n",
    "plt.plot(x, norm_pdf, label='normal distribution')"
   ]
  },
  {
   "cell_type": "code",
   "execution_count": 299,
   "metadata": {},
   "outputs": [
    {
     "data": {
      "text/plain": [
       "[<matplotlib.lines.Line2D at 0x1914f860>]"
      ]
     },
     "execution_count": 299,
     "metadata": {},
     "output_type": "execute_result"
    },
    {
     "data": {
      "image/png": "[encoded data removed]",
      "text/plain": [
       "<matplotlib.figure.Figure at 0x197dde48>"
      ]
     },
     "metadata": {},
     "output_type": "display_data"
    }
   ],
   "source": [
    "n = 5000 # Объем выборки\n",
    "sampleMean = [] # Массив выборочных средних\n",
    "for i in range(k):\n",
    "    f_sample = f_rv.rvs(n)\n",
    "    sampleMean.append(np.mean(f_sample))\n",
    "plt.hist(sampleMean, normed=True, label='fraction of samples') # Параметр bins - число столбцов\n",
    "plt.ylabel('$f(x)$')\n",
    "plt.xlabel('$x$')\n",
    "n_mean = mean # Оценка среднего теоретического нормального распределения, к которому приближается распределение выборочных средних\n",
    "n_std = std / n ** (1/2) # Оценка стандартного отклонения теоретического нормального распределения, к которому приближается распределение выборочных средних\n",
    "norm_rv = stats.norm(n_mean, n_std)\n",
    "norm_pdf = norm_rv.pdf(x)\n",
    "plt.plot(x, norm_pdf, label='normal distribution')"
   ]
  },
  {
   "cell_type": "markdown",
   "metadata": {},
   "source": [
    "Сравниваем средние и стандартные отклонения теоретического распределения и получившейся выборки средних"
   ]
  },
  {
   "cell_type": "code",
   "execution_count": 302,
   "metadata": {},
   "outputs": [
    {
     "data": {
      "text/plain": [
       "((1.4, 1.4004417535870417), (0.026398653164297774, 0.026532066716697073))"
      ]
     },
     "execution_count": 302,
     "metadata": {},
     "output_type": "execute_result"
    }
   ],
   "source": [
    "(n_mean, np.mean(sampleMean)), (n_std, np.std(sampleMean))"
   ]
  },
  {
   "cell_type": "markdown",
   "metadata": {},
   "source": [
    "<b>Выводы.</b>\n",
    "\n",
    "С ростом n распределение выборочных средних все больше приближается к нормальному с параметрами, равными среднему теоретического распределения и стандартному отклонению, равному стандартному отклонению теоретического распределения, деленному на корень из объема выборки. /Помимо построенных графиков специально для проверки посчитали./\n",
    "\n",
    "С ростом n за счет более точно посчитанных средних значений выборок точность полученных результатов увеличивается.\n",
    "\n",
    "Нормальное  распределение, в свою очередь, аппроксимирует распределение выборочных средних заданного распределения /в данном случае - распределения Фишера/. "
   ]
  },
  {
   "cell_type": "code",
   "execution_count": null,
   "metadata": {
    "collapsed": true
   },
   "outputs": [],
   "source": []
  }
 ],
 "metadata": {
  "kernelspec": {
   "display_name": "Python 3",
   "language": "python",
   "name": "python3"
  },
  "language_info": {
   "codemirror_mode": {
    "name": "ipython",
    "version": 3
   },
   "file_extension": ".py",
   "mimetype": "text/x-python",
   "name": "python",
   "nbconvert_exporter": "python",
   "pygments_lexer": "ipython3",
   "version": "3.6.1"
  }
 },
 "nbformat": 4,
 "nbformat_minor": 2
}
