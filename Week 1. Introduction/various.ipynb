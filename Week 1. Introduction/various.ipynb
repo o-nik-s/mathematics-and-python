{
 "cells": [
  {
   "cell_type": "code",
   "execution_count": 2,
   "metadata": {},
   "outputs": [
    {
     "name": "stdout",
     "output_type": "stream",
     "text": [
      "OK\n"
     ]
    }
   ],
   "source": [
    "x = True\n",
    "if x:\n",
    "    print(\"OK\") # В Питоне для обозначения тела используются отступы\n",
    "else:\n",
    "    print(\"NOT OK :)\")"
   ]
  },
  {
   "cell_type": "code",
   "execution_count": 10,
   "metadata": {},
   "outputs": [
    {
     "name": "stdout",
     "output_type": "stream",
     "text": [
      "1 2 3 4 5 6 7 8 9 "
     ]
    }
   ],
   "source": [
    "for i in range(1, 10):\n",
    "    print(i, end = \" \")"
   ]
  },
  {
   "cell_type": "code",
   "execution_count": 11,
   "metadata": {},
   "outputs": [
    {
     "name": "stdout",
     "output_type": "stream",
     "text": [
      "range(2, 5)\n"
     ]
    }
   ],
   "source": [
    "print(range(2, 5))"
   ]
  },
  {
   "cell_type": "code",
   "execution_count": 12,
   "metadata": {},
   "outputs": [
    {
     "name": "stdout",
     "output_type": "stream",
     "text": [
      "2\n",
      "3\n",
      "4\n"
     ]
    }
   ],
   "source": [
    "for i in [2, 3, 4]:\n",
    "    print(i)"
   ]
  },
  {
   "cell_type": "code",
   "execution_count": 14,
   "metadata": {},
   "outputs": [
    {
     "data": {
      "text/plain": [
       "range"
      ]
     },
     "execution_count": 14,
     "metadata": {},
     "output_type": "execute_result"
    }
   ],
   "source": [
    "type(range(2, 5)) # Генератор не представляет из себя сразу длинный готовых значений, в памяти не хранится длинный список, а генерируется прямо на ходу"
   ]
  },
  {
   "cell_type": "code",
   "execution_count": 15,
   "metadata": {},
   "outputs": [
    {
     "ename": "NameError",
     "evalue": "name 'xrange' is not defined",
     "output_type": "error",
     "traceback": [
      "\u001b[1;31m---------------------------------------------------------------------------\u001b[0m",
      "\u001b[1;31mNameError\u001b[0m                                 Traceback (most recent call last)",
      "\u001b[1;32m<ipython-input-15-6a255352a513>\u001b[0m in \u001b[0;36m<module>\u001b[1;34m()\u001b[0m\n\u001b[1;32m----> 1\u001b[1;33m \u001b[1;32mfor\u001b[0m \u001b[0mi\u001b[0m \u001b[1;32min\u001b[0m \u001b[0mxrange\u001b[0m\u001b[1;33m(\u001b[0m\u001b[1;36m1\u001b[0m\u001b[1;33m,\u001b[0m \u001b[1;36m10\u001b[0m\u001b[1;33m)\u001b[0m\u001b[1;33m:\u001b[0m\u001b[1;33m\u001b[0m\u001b[0m\n\u001b[0m\u001b[0;32m      2\u001b[0m     \u001b[0mprint\u001b[0m\u001b[1;33m(\u001b[0m\u001b[0mi\u001b[0m\u001b[1;33m,\u001b[0m \u001b[0mend\u001b[0m \u001b[1;33m=\u001b[0m \u001b[1;34m\" \"\u001b[0m\u001b[1;33m)\u001b[0m\u001b[1;33m\u001b[0m\u001b[0m\n",
      "\u001b[1;31mNameError\u001b[0m: name 'xrange' is not defined"
     ]
    }
   ],
   "source": [
    "for i in xrange(1, 10):\n",
    "    print(i, end = \" \")"
   ]
  },
  {
   "cell_type": "code",
   "execution_count": 16,
   "metadata": {},
   "outputs": [
    {
     "ename": "NameError",
     "evalue": "name 'xrange' is not defined",
     "output_type": "error",
     "traceback": [
      "\u001b[1;31m---------------------------------------------------------------------------\u001b[0m",
      "\u001b[1;31mNameError\u001b[0m                                 Traceback (most recent call last)",
      "\u001b[1;32m<ipython-input-16-e215df4841aa>\u001b[0m in \u001b[0;36m<module>\u001b[1;34m()\u001b[0m\n\u001b[1;32m----> 1\u001b[1;33m \u001b[0mtype\u001b[0m\u001b[1;33m(\u001b[0m\u001b[0mxrange\u001b[0m\u001b[1;33m(\u001b[0m\u001b[1;36m2\u001b[0m\u001b[1;33m,\u001b[0m \u001b[1;36m5\u001b[0m\u001b[1;33m)\u001b[0m\u001b[1;33m)\u001b[0m\u001b[1;33m\u001b[0m\u001b[0m\n\u001b[0m",
      "\u001b[1;31mNameError\u001b[0m: name 'xrange' is not defined"
     ]
    }
   ],
   "source": [
    "type(xrange(2, 5))"
   ]
  },
  {
   "cell_type": "code",
   "execution_count": 20,
   "metadata": {},
   "outputs": [
    {
     "ename": "SyntaxError",
     "evalue": "invalid syntax (<ipython-input-20-99f18732a6eb>, line 1)",
     "output_type": "error",
     "traceback": [
      "\u001b[1;36m  File \u001b[1;32m\"<ipython-input-20-99f18732a6eb>\"\u001b[1;36m, line \u001b[1;32m1\u001b[0m\n\u001b[1;33m    print[x**2 for x in range[1, 11]]\u001b[0m\n\u001b[1;37m                 ^\u001b[0m\n\u001b[1;31mSyntaxError\u001b[0m\u001b[1;31m:\u001b[0m invalid syntax\n"
     ]
    }
   ],
   "source": [
    "print[x**2 for x in range[1, 11]]"
   ]
  },
  {
   "cell_type": "code",
   "execution_count": 36,
   "metadata": {},
   "outputs": [
    {
     "ename": "SyntaxError",
     "evalue": "invalid syntax (<ipython-input-36-ef0a10bcf6e6>, line 1)",
     "output_type": "error",
     "traceback": [
      "\u001b[1;36m  File \u001b[1;32m\"<ipython-input-36-ef0a10bcf6e6>\"\u001b[1;36m, line \u001b[1;32m1\u001b[0m\n\u001b[1;33m    print([ x ** 2 for x in range(1,11) ] if x % 2 = 0])\u001b[0m\n\u001b[1;37m                                                   ^\u001b[0m\n\u001b[1;31mSyntaxError\u001b[0m\u001b[1;31m:\u001b[0m invalid syntax\n"
     ]
    }
   ],
   "source": [
    "print([ x ** 2 for x in range(1,11) ] if x % 2 = 0])"
   ]
  },
  {
   "cell_type": "code",
   "execution_count": 46,
   "metadata": {
    "collapsed": true
   },
   "outputs": [],
   "source": [
    "w = [ x ** 2 for x in range(1,11) ]"
   ]
  },
  {
   "cell_type": "code",
   "execution_count": 48,
   "metadata": {},
   "outputs": [
    {
     "name": "stdout",
     "output_type": "stream",
     "text": [
      "[1, 4, 9, 16, 25, 36, 49, 64, 81, 100]\n"
     ]
    }
   ],
   "source": [
    "print(w)"
   ]
  },
  {
   "cell_type": "code",
   "execution_count": 49,
   "metadata": {
    "collapsed": true
   },
   "outputs": [],
   "source": [
    "w = ( x ** 2 for x in range(1,11) )"
   ]
  },
  {
   "cell_type": "code",
   "execution_count": 50,
   "metadata": {},
   "outputs": [
    {
     "name": "stdout",
     "output_type": "stream",
     "text": [
      "<generator object <genexpr> at 0x0000000004BD4518>\n"
     ]
    }
   ],
   "source": [
    "print(w)"
   ]
  },
  {
   "cell_type": "code",
   "execution_count": 43,
   "metadata": {},
   "outputs": [
    {
     "ename": "TypeError",
     "evalue": "'type' object is not subscriptable",
     "output_type": "error",
     "traceback": [
      "\u001b[1;31m---------------------------------------------------------------------------\u001b[0m",
      "\u001b[1;31mTypeError\u001b[0m                                 Traceback (most recent call last)",
      "\u001b[1;32m<ipython-input-43-580691fa78b3>\u001b[0m in \u001b[0;36m<module>\u001b[1;34m()\u001b[0m\n\u001b[1;32m----> 1\u001b[1;33m \u001b[0mprint\u001b[0m\u001b[1;33m(\u001b[0m \u001b[1;33m[\u001b[0m \u001b[0mx\u001b[0m\u001b[1;33m**\u001b[0m\u001b[1;36m2\u001b[0m \u001b[1;32mfor\u001b[0m \u001b[0mx\u001b[0m \u001b[1;32min\u001b[0m \u001b[0mrange\u001b[0m\u001b[1;33m[\u001b[0m\u001b[1;36m1\u001b[0m\u001b[1;33m,\u001b[0m \u001b[1;36m11\u001b[0m\u001b[1;33m]\u001b[0m \u001b[1;33m]\u001b[0m \u001b[1;33m)\u001b[0m\u001b[1;33m\u001b[0m\u001b[0m\n\u001b[0m",
      "\u001b[1;31mTypeError\u001b[0m: 'type' object is not subscriptable"
     ]
    }
   ],
   "source": [
    "print( [ x**2 for x in range[1, 11] ] )"
   ]
  },
  {
   "cell_type": "code",
   "execution_count": 44,
   "metadata": {
    "collapsed": true
   },
   "outputs": [],
   "source": [
    "w = [ x ** 2 for x in range(1,11) ]"
   ]
  },
  {
   "cell_type": "code",
   "execution_count": 47,
   "metadata": {},
   "outputs": [
    {
     "name": "stdout",
     "output_type": "stream",
     "text": [
      "[1, 4, 9, 16, 25, 36, 49, 64, 81, 100]\n"
     ]
    }
   ],
   "source": [
    "print(w)"
   ]
  },
  {
   "cell_type": "code",
   "execution_count": 51,
   "metadata": {
    "collapsed": true
   },
   "outputs": [],
   "source": [
    "w = ( x ** 2 for x in range(1,11) if x % 2 == 0 )"
   ]
  },
  {
   "cell_type": "code",
   "execution_count": 52,
   "metadata": {},
   "outputs": [
    {
     "name": "stdout",
     "output_type": "stream",
     "text": [
      "<generator object <genexpr> at 0x0000000004BD45C8>\n"
     ]
    }
   ],
   "source": [
    "print(w)"
   ]
  },
  {
   "cell_type": "code",
   "execution_count": 24,
   "metadata": {},
   "outputs": [
    {
     "ename": "NameError",
     "evalue": "name 'w' is not defined",
     "output_type": "error",
     "traceback": [
      "\u001b[1;31m---------------------------------------------------------------------------\u001b[0m",
      "\u001b[1;31mNameError\u001b[0m                                 Traceback (most recent call last)",
      "\u001b[1;32m<ipython-input-24-3b7ed03def25>\u001b[0m in \u001b[0;36m<module>\u001b[1;34m()\u001b[0m\n\u001b[1;32m----> 1\u001b[1;33m \u001b[0mtype\u001b[0m\u001b[1;33m(\u001b[0m\u001b[0mw\u001b[0m\u001b[1;33m)\u001b[0m\u001b[1;33m\u001b[0m\u001b[0m\n\u001b[0m",
      "\u001b[1;31mNameError\u001b[0m: name 'w' is not defined"
     ]
    }
   ],
   "source": [
    "type(w)"
   ]
  },
  {
   "cell_type": "code",
   "execution_count": 28,
   "metadata": {},
   "outputs": [
    {
     "name": "stdout",
     "output_type": "stream",
     "text": [
      "1\n",
      "Continue\n",
      "3\n",
      "Continue\n",
      "5\n",
      "Continue\n",
      "7\n",
      "Continue\n",
      "9\n",
      "Continue\n",
      "11\n"
     ]
    }
   ],
   "source": [
    "x = True\n",
    "s = 0\n",
    "while x:\n",
    "    s += 1\n",
    "    if s % 2 == 0:\n",
    "        print(\"Continue\")\n",
    "        continue\n",
    "    print(s)\n",
    "    if s > 10:\n",
    "        break"
   ]
  },
  {
   "cell_type": "raw",
   "metadata": {},
   "source": [
    "def myrange(a, b):\n",
    "    res = []\n",
    "    s = a\n",
    "    while s != b:\n",
    "        res.append(s)\n",
    "        s += 1\n",
    "    return res"
   ]
  },
  {
   "cell_type": "code",
   "execution_count": 30,
   "metadata": {},
   "outputs": [
    {
     "ename": "NameError",
     "evalue": "name 'myrange' is not defined",
     "output_type": "error",
     "traceback": [
      "\u001b[1;31m---------------------------------------------------------------------------\u001b[0m",
      "\u001b[1;31mNameError\u001b[0m                                 Traceback (most recent call last)",
      "\u001b[1;32m<ipython-input-30-25abafadce2a>\u001b[0m in \u001b[0;36m<module>\u001b[1;34m()\u001b[0m\n\u001b[1;32m----> 1\u001b[1;33m \u001b[0mmyrange\u001b[0m\u001b[1;33m(\u001b[0m\u001b[1;36m2\u001b[0m\u001b[1;33m,\u001b[0m \u001b[1;36m7\u001b[0m\u001b[1;33m)\u001b[0m\u001b[1;33m\u001b[0m\u001b[0m\n\u001b[0m",
      "\u001b[1;31mNameError\u001b[0m: name 'myrange' is not defined"
     ]
    }
   ],
   "source": [
    "myrange(2, 7)"
   ]
  },
  {
   "cell_type": "code",
   "execution_count": 29,
   "metadata": {},
   "outputs": [
    {
     "ename": "NameError",
     "evalue": "name 'myrange' is not defined",
     "output_type": "error",
     "traceback": [
      "\u001b[1;31m---------------------------------------------------------------------------\u001b[0m",
      "\u001b[1;31mNameError\u001b[0m                                 Traceback (most recent call last)",
      "\u001b[1;32m<ipython-input-29-de777f128ba3>\u001b[0m in \u001b[0;36m<module>\u001b[1;34m()\u001b[0m\n\u001b[1;32m----> 1\u001b[1;33m \u001b[0mprint\u001b[0m\u001b[1;33m(\u001b[0m\u001b[0mmyrange\u001b[0m\u001b[1;33m(\u001b[0m\u001b[1;36m2\u001b[0m\u001b[1;33m,\u001b[0m \u001b[1;36m7\u001b[0m\u001b[1;33m)\u001b[0m\u001b[1;33m,\u001b[0m \u001b[0mend\u001b[0m \u001b[1;33m=\u001b[0m \u001b[1;34m', '\u001b[0m\u001b[1;33m)\u001b[0m\u001b[1;33m\u001b[0m\u001b[0m\n\u001b[0m",
      "\u001b[1;31mNameError\u001b[0m: name 'myrange' is not defined"
     ]
    }
   ],
   "source": [
    "print(myrange(2, 7), end = ', ')"
   ]
  },
  {
   "cell_type": "code",
   "execution_count": 33,
   "metadata": {},
   "outputs": [
    {
     "name": "stdout",
     "output_type": "stream",
     "text": [
      "<map object at 0x0000000004AADB38>\n"
     ]
    }
   ],
   "source": [
    "def sq(x):\n",
    "    return x**2\n",
    "\n",
    "print(map(sq, range(10)))"
   ]
  },
  {
   "cell_type": "code",
   "execution_count": 35,
   "metadata": {},
   "outputs": [
    {
     "name": "stdout",
     "output_type": "stream",
     "text": [
      "<map object at 0x0000000004A76A20>\n"
     ]
    }
   ],
   "source": [
    "print(map(lambda x, y: y + x**2, range(10)))"
   ]
  },
  {
   "cell_type": "code",
   "execution_count": null,
   "metadata": {
    "collapsed": true
   },
   "outputs": [],
   "source": [
    "# Изменяемость объектов определённого типа является принципиально важной характеристикой, \n",
    "# определяющей, может ли объект такого типа выступать в качестве ключа для словарей (dict) или нет."
   ]
  },
  {
   "cell_type": "code",
   "execution_count": null,
   "metadata": {
    "collapsed": true
   },
   "outputs": [],
   "source": [
    "# Множества являются изменяемыми объектами, а, значит, не могут выступать в роли ключей."
   ]
  },
  {
   "cell_type": "code",
   "execution_count": 1,
   "metadata": {},
   "outputs": [
    {
     "data": {
      "text/plain": [
       "2319713088000.0"
      ]
     },
     "execution_count": 1,
     "metadata": {},
     "output_type": "execute_result"
    }
   ],
   "source": [
    "(190**4 - 120/0.3)*1780"
   ]
  },
  {
   "cell_type": "code",
   "execution_count": 4,
   "metadata": {},
   "outputs": [
    {
     "data": {
      "text/plain": [
       "'Hello, world!'"
      ]
     },
     "execution_count": 4,
     "metadata": {},
     "output_type": "execute_result"
    }
   ],
   "source": [
    "'Hello, world!'"
   ]
  },
  {
   "cell_type": "code",
   "execution_count": 5,
   "metadata": {},
   "outputs": [
    {
     "data": {
      "text/plain": [
       "float"
      ]
     },
     "execution_count": 5,
     "metadata": {},
     "output_type": "execute_result"
    }
   ],
   "source": [
    "type(2.3)"
   ]
  },
  {
   "cell_type": "code",
   "execution_count": 10,
   "metadata": {
    "collapsed": true
   },
   "outputs": [],
   "source": [
    "x = u'Элеонора'"
   ]
  },
  {
   "cell_type": "code",
   "execution_count": 11,
   "metadata": {},
   "outputs": [
    {
     "name": "stdout",
     "output_type": "stream",
     "text": [
      "Элеонора\n"
     ]
    }
   ],
   "source": [
    "print(x)"
   ]
  },
  {
   "cell_type": "code",
   "execution_count": 12,
   "metadata": {},
   "outputs": [
    {
     "name": "stdout",
     "output_type": "stream",
     "text": [
      "<class 'str'>\n"
     ]
    }
   ],
   "source": [
    "print(type(x))"
   ]
  },
  {
   "cell_type": "code",
   "execution_count": 13,
   "metadata": {
    "collapsed": true
   },
   "outputs": [],
   "source": [
    "?open"
   ]
  },
  {
   "cell_type": "code",
   "execution_count": 14,
   "metadata": {},
   "outputs": [
    {
     "data": {
      "text/plain": [
       "'Open file and return a stream.  Raise IOError upon failure.\\n\\nfile is either a text or byte string giving the name (and the path\\nif the file isn\\'t in the current working directory) of the file to\\nbe opened or an integer file descriptor of the file to be\\nwrapped. (If a file descriptor is given, it is closed when the\\nreturned I/O object is closed, unless closefd is set to False.)\\n\\nmode is an optional string that specifies the mode in which the file\\nis opened. It defaults to \\'r\\' which means open for reading in text\\nmode.  Other common values are \\'w\\' for writing (truncating the file if\\nit already exists), \\'x\\' for creating and writing to a new file, and\\n\\'a\\' for appending (which on some Unix systems, means that all writes\\nappend to the end of the file regardless of the current seek position).\\nIn text mode, if encoding is not specified the encoding used is platform\\ndependent: locale.getpreferredencoding(False) is called to get the\\ncurrent locale encoding. (For reading and writing raw bytes use binary\\nmode and leave encoding unspecified.) The available modes are:\\n\\n========= ===============================================================\\nCharacter Meaning\\n--------- ---------------------------------------------------------------\\n\\'r\\'       open for reading (default)\\n\\'w\\'       open for writing, truncating the file first\\n\\'x\\'       create a new file and open it for writing\\n\\'a\\'       open for writing, appending to the end of the file if it exists\\n\\'b\\'       binary mode\\n\\'t\\'       text mode (default)\\n\\'+\\'       open a disk file for updating (reading and writing)\\n\\'U\\'       universal newline mode (deprecated)\\n========= ===============================================================\\n\\nThe default mode is \\'rt\\' (open for reading text). For binary random\\naccess, the mode \\'w+b\\' opens and truncates the file to 0 bytes, while\\n\\'r+b\\' opens the file without truncation. The \\'x\\' mode implies \\'w\\' and\\nraises an `FileExistsError` if the file already exists.\\n\\nPython distinguishes between files opened in binary and text modes,\\neven when the underlying operating system doesn\\'t. Files opened in\\nbinary mode (appending \\'b\\' to the mode argument) return contents as\\nbytes objects without any decoding. In text mode (the default, or when\\n\\'t\\' is appended to the mode argument), the contents of the file are\\nreturned as strings, the bytes having been first decoded using a\\nplatform-dependent encoding or using the specified encoding if given.\\n\\n\\'U\\' mode is deprecated and will raise an exception in future versions\\nof Python.  It has no effect in Python 3.  Use newline to control\\nuniversal newlines mode.\\n\\nbuffering is an optional integer used to set the buffering policy.\\nPass 0 to switch buffering off (only allowed in binary mode), 1 to select\\nline buffering (only usable in text mode), and an integer > 1 to indicate\\nthe size of a fixed-size chunk buffer.  When no buffering argument is\\ngiven, the default buffering policy works as follows:\\n\\n* Binary files are buffered in fixed-size chunks; the size of the buffer\\n  is chosen using a heuristic trying to determine the underlying device\\'s\\n  \"block size\" and falling back on `io.DEFAULT_BUFFER_SIZE`.\\n  On many systems, the buffer will typically be 4096 or 8192 bytes long.\\n\\n* \"Interactive\" text files (files for which isatty() returns True)\\n  use line buffering.  Other text files use the policy described above\\n  for binary files.\\n\\nencoding is the name of the encoding used to decode or encode the\\nfile. This should only be used in text mode. The default encoding is\\nplatform dependent, but any encoding supported by Python can be\\npassed.  See the codecs module for the list of supported encodings.\\n\\nerrors is an optional string that specifies how encoding errors are to\\nbe handled---this argument should not be used in binary mode. Pass\\n\\'strict\\' to raise a ValueError exception if there is an encoding error\\n(the default of None has the same effect), or pass \\'ignore\\' to ignore\\nerrors. (Note that ignoring encoding errors can lead to data loss.)\\nSee the documentation for codecs.register or run \\'help(codecs.Codec)\\'\\nfor a list of the permitted encoding error strings.\\n\\nnewline controls how universal newlines works (it only applies to text\\nmode). It can be None, \\'\\', \\'\\\\n\\', \\'\\\\r\\', and \\'\\\\r\\\\n\\'.  It works as\\nfollows:\\n\\n* On input, if newline is None, universal newlines mode is\\n  enabled. Lines in the input can end in \\'\\\\n\\', \\'\\\\r\\', or \\'\\\\r\\\\n\\', and\\n  these are translated into \\'\\\\n\\' before being returned to the\\n  caller. If it is \\'\\', universal newline mode is enabled, but line\\n  endings are returned to the caller untranslated. If it has any of\\n  the other legal values, input lines are only terminated by the given\\n  string, and the line ending is returned to the caller untranslated.\\n\\n* On output, if newline is None, any \\'\\\\n\\' characters written are\\n  translated to the system default line separator, os.linesep. If\\n  newline is \\'\\' or \\'\\\\n\\', no translation takes place. If newline is any\\n  of the other legal values, any \\'\\\\n\\' characters written are translated\\n  to the given string.\\n\\nIf closefd is False, the underlying file descriptor will be kept open\\nwhen the file is closed. This does not work when a file name is given\\nand must be True in that case.\\n\\nA custom opener can be used by passing a callable as *opener*. The\\nunderlying file descriptor for the file object is then obtained by\\ncalling *opener* with (*file*, *flags*). *opener* must return an open\\nfile descriptor (passing os.open as *opener* results in functionality\\nsimilar to passing None).\\n\\nopen() returns a file object whose type depends on the mode, and\\nthrough which the standard file operations such as reading and writing\\nare performed. When open() is used to open a file in a text mode (\\'w\\',\\n\\'r\\', \\'wt\\', \\'rt\\', etc.), it returns a TextIOWrapper. When used to open\\na file in a binary mode, the returned class varies: in read binary\\nmode, it returns a BufferedReader; in write binary and append binary\\nmodes, it returns a BufferedWriter, and in read/write mode, it returns\\na BufferedRandom.\\n\\nIt is also possible to use a string or bytearray as a file for both\\nreading and writing. For strings StringIO can be used like a file\\nopened in a text mode, and for bytes a BytesIO can be used like a file\\nopened in a binary mode.'"
      ]
     },
     "execution_count": 14,
     "metadata": {},
     "output_type": "execute_result"
    }
   ],
   "source": [
    "open.__doc__"
   ]
  },
  {
   "cell_type": "code",
   "execution_count": null,
   "metadata": {
    "collapsed": true
   },
   "outputs": [],
   "source": []
  }
 ],
 "metadata": {
  "kernelspec": {
   "display_name": "Python 3",
   "language": "python",
   "name": "python3"
  },
  "language_info": {
   "codemirror_mode": {
    "name": "ipython",
    "version": 3
   },
   "file_extension": ".py",
   "mimetype": "text/x-python",
   "name": "python",
   "nbconvert_exporter": "python",
   "pygments_lexer": "ipython3",
   "version": "3.6.1"
  }
 },
 "nbformat": 4,
 "nbformat_minor": 2
}
