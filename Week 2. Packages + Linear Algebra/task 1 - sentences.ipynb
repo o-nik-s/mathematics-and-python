{
 "cells": [
  {
   "cell_type": "markdown",
   "metadata": {},
   "source": [
    "# Задание 1"
   ]
  },
  {
   "cell_type": "code",
   "execution_count": 1,
   "metadata": {},
   "outputs": [],
   "source": [
    "with open(\"sentences.txt\") as file_obj:\n",
    "    sentenceList = list(map(lambda x: x.lower(), map(lambda x: x.strip(), file_obj.readlines())))"
   ]
  },
  {
   "cell_type": "code",
   "execution_count": 2,
   "metadata": {},
   "outputs": [],
   "source": [
    "import re\n",
    "sentenceWordList = list(map(lambda t: re.split('[^a-z]', t), sentenceList))  # регулярное выражение, считающее разделителем любой символ, не являющийся буквой\n",
    "sentenceWordList = [list(filter(lambda word: word != \"\", sentence)) for sentence in sentenceWordList] # убираем пробелы"
   ]
  },
  {
   "cell_type": "code",
   "execution_count": 3,
   "metadata": {},
   "outputs": [],
   "source": [
    "words = dict()\n",
    "for sentence in sentenceWordList:\n",
    "    for word in sentence:\n",
    "        words[word] = words.get(word, 0) + 1"
   ]
  },
  {
   "cell_type": "code",
   "execution_count": 4,
   "metadata": {},
   "outputs": [],
   "source": [
    "import numpy as np\n",
    "countOfInput = np.array([[sentenceWordList[i].count(word) for word in words] for i in range(len(sentenceWordList))])"
   ]
  },
  {
   "cell_type": "code",
   "execution_count": 5,
   "metadata": {},
   "outputs": [],
   "source": [
    "from scipy import spatial\n",
    "dist = [spatial.distance.cosine(countOfInput[0], countOfInput[i]) for i in range(0, len(countOfInput))]\n",
    "sortDist = sorted(zip(dist, range(len(dist))))"
   ]
  },
  {
   "cell_type": "code",
   "execution_count": 6,
   "metadata": {},
   "outputs": [],
   "source": [
    "with open(\"sentences_output.txt\", \"w\") as outFile:\n",
    "    print(sortDist[1][1], sortDist[2][1], file=outFile)"
   ]
  },
  {
   "cell_type": "code",
   "execution_count": null,
   "metadata": {
    "collapsed": true
   },
   "outputs": [],
   "source": []
  }
 ],
 "metadata": {
  "kernelspec": {
   "display_name": "Python 3",
   "language": "python",
   "name": "python3"
  },
  "language_info": {
   "codemirror_mode": {
    "name": "ipython",
    "version": 3
   },
   "file_extension": ".py",
   "mimetype": "text/x-python",
   "name": "python",
   "nbconvert_exporter": "python",
   "pygments_lexer": "ipython3",
   "version": "3.6.1"
  }
 },
 "nbformat": 4,
 "nbformat_minor": 2
}
